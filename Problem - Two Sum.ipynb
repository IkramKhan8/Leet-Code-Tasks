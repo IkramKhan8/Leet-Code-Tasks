{
 "cells": [
  {
   "cell_type": "code",
   "execution_count": null,
   "metadata": {},
   "outputs": [],
   "source": [
    "from typing import List\n",
    "class Solution:\n",
    "    def twoSum(self, nums: List[int], target: int) -> List[int]:        \n",
    "        output = list()\n",
    "        thedict = dict()\n",
    "        for i in range(0,len(nums)):\n",
    "            for k in range(i+1,len(nums)):\n",
    "                if nums[i] + nums[k] == target:\n",
    "                    if nums[i] == nums[k]:\n",
    "                        output.append(i)\n",
    "                    thedict[nums[i]] = i\n",
    "                    thedict[nums[k]] = k\n",
    "        output.extend(list(thedict.values()))\n",
    "        return output\n",
    "    \n",
    "output_thing = Solution()\n",
    "#nums = [2,5,7,11,15,1,9,21,4,8] ; target = 9\n",
    "#nums = [3,2,4] ; target = 6\n",
    "#nums = [2,7,11,15] ;target = 25\n",
    "#nums = [3,3] ; target = 6\n",
    "nums = [2,3,4,1,5,6,3,1,7,3,6] ; target = 9\n",
    "#nums = [2,7,11,15] ; target = 9\n",
    "#nums = [3,2,4] ;target = 6\n",
    "#nums=[3,2,4]  ;  target = 6\n",
    "trying_thing.twoSum(nums,target)\n",
    "print(trying_thing.twoSum(nums,target))"
   ]
  }
 ],
 "metadata": {
  "kernelspec": {
   "display_name": "Python 3",
   "language": "python",
   "name": "python3"
  },
  "language_info": {
   "codemirror_mode": {
    "name": "ipython",
    "version": 3
   },
   "file_extension": ".py",
   "mimetype": "text/x-python",
   "name": "python",
   "nbconvert_exporter": "python",
   "pygments_lexer": "ipython3",
   "version": "3.8.5"
  },
  "toc": {
   "base_numbering": 1,
   "nav_menu": {},
   "number_sections": true,
   "sideBar": true,
   "skip_h1_title": false,
   "title_cell": "Table of Contents",
   "title_sidebar": "Contents",
   "toc_cell": false,
   "toc_position": {},
   "toc_section_display": true,
   "toc_window_display": false
  }
 },
 "nbformat": 4,
 "nbformat_minor": 4
}
